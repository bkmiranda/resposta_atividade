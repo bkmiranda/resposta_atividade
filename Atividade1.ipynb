{
 "cells": [
  {
   "cell_type": "code",
   "execution_count": 5,
   "id": "e7c53d87-a100-4862-8d31-78c1ee1ee5d9",
   "metadata": {},
   "outputs": [
    {
     "name": "stdout",
     "output_type": "stream",
     "text": [
      "TTTATAGTAGAAGAGGTCCAAGCGGGAACAGAACTGCTAACCCAGCCCCATCCTGTCCTTACACAAAGATGCTGCGGTCTTGATCCACCTCGCTCGGCCACTCGTTCACCCCGTCTAAGTTTGCGCGGAACTAACCAAAAGATGACAACAAGGCGGGACGAACCCTTTACGCTGTCACTCCATAAAACATAGTTTTAATACCGGGTCTCTCAAAAAAGTATGCTGGGTGCATCGTTCCTTGGTTTAGTAGCTCCTCCGTTTCGGGCTCGGATGAGCCTCGGAATCCTAAGGGTAAATGCGAAAGATCCCACGGATAAGGTCACTTTAACCTGTTACCCAACCAAGCCGGGCACGCGCGGTCTCCCGGATGACATCTCGGGAGCCTCACGAATCAAGGCCGCAATGCAAGAGAGGCTTTACGCCACGGTAGAGGTTACACGTTTCCCGGGGCAGGATCCCGTCAGAGGTTTCCTTAACGAACTCACTCCAGGATACAGTTCCATGCACTAGGGGTCTCGGAGTCAGGCGCAACCGGCGCAAAGTAAACGAGTGGTCGAAAGCGGCGATTGTTGTCGATGGAGGGTTCTTTAACATACTTACGGCCTTAGCAGTTCATACACCCTCTACTCAAGAGGTTGCAGCGAACTTAGTTCCCAGTAATGCACACTAGTTGACCTCATCCCTAGAGTGACAACTCACTATAGAAGTCGTCGTTTTGCTAATCGATCCCGTCGATCCGATGCAAACTTACCCATTCACGCTCGCACATCGGTTTCACAACGGATCGTCATACTCCAGTGAGACGCGGATGGGCGTCAAGTGGTTG\n"
     ]
    }
   ],
   "source": [
    "#Primeiramente eu importo a string da sequência de DNA no Jupyter Notebook.\n",
    "dna_sequence = \"TTTATAGTAGAAGAGGTCCAAGCGGGAACAGAACTGCTAACCCAGCCCCATCCTGTCCTTACACAAAGATGCTGCGGTCTTGATCCACCTCGCTCGGCCACTCGTTCACCCCGTCTAAGTTTGCGCGGAACTAACCAAAAGATGACAACAAGGCGGGACGAACCCTTTACGCTGTCACTCCATAAAACATAGTTTTAATACCGGGTCTCTCAAAAAAGTATGCTGGGTGCATCGTTCCTTGGTTTAGTAGCTCCTCCGTTTCGGGCTCGGATGAGCCTCGGAATCCTAAGGGTAAATGCGAAAGATCCCACGGATAAGGTCACTTTAACCTGTTACCCAACCAAGCCGGGCACGCGCGGTCTCCCGGATGACATCTCGGGAGCCTCACGAATCAAGGCCGCAATGCAAGAGAGGCTTTACGCCACGGTAGAGGTTACACGTTTCCCGGGGCAGGATCCCGTCAGAGGTTTCCTTAACGAACTCACTCCAGGATACAGTTCCATGCACTAGGGGTCTCGGAGTCAGGCGCAACCGGCGCAAAGTAAACGAGTGGTCGAAAGCGGCGATTGTTGTCGATGGAGGGTTCTTTAACATACTTACGGCCTTAGCAGTTCATACACCCTCTACTCAAGAGGTTGCAGCGAACTTAGTTCCCAGTAATGCACACTAGTTGACCTCATCCCTAGAGTGACAACTCACTATAGAAGTCGTCGTTTTGCTAATCGATCCCGTCGATCCGATGCAAACTTACCCATTCACGCTCGCACATCGGTTTCACAACGGATCGTCATACTCCAGTGAGACGCGGATGGGCGTCAAGTGGTTG\"\n",
    "print(dna_sequence)"
   ]
  },
  {
   "cell_type": "code",
   "execution_count": 27,
   "id": "fb8cac4b-4255-4d00-a503-112ad1935f53",
   "metadata": {},
   "outputs": [
    {
     "name": "stdout",
     "output_type": "stream",
     "text": [
      "aparece A: 209 vezes\n"
     ]
    }
   ],
   "source": [
    "#A) O número de vezes que cada um dos nucleotídeos 'A', 'C', 'G' e 'T' aparecem: \n",
    "#Para fazer a contagem eu utilizo o comando \"count\" para contar um por um.\n",
    "count_A = dna_sequence.count('A')\n",
    "print(f\"aparece A: {count_A} vezes\")"
   ]
  },
  {
   "cell_type": "code",
   "execution_count": 25,
   "id": "92d6ba55-aace-4fd3-96db-cb5e4a57362e",
   "metadata": {},
   "outputs": [
    {
     "name": "stdout",
     "output_type": "stream",
     "text": [
      "aparece C: 227 vezes\n"
     ]
    }
   ],
   "source": [
    "count_C = dna_sequence.count('C')\n",
    "print(f\"aparece C: {count_C} vezes\")"
   ]
  },
  {
   "cell_type": "code",
   "execution_count": 23,
   "id": "807a1bb7-2315-47e2-8baf-0fc89f6ce8ca",
   "metadata": {},
   "outputs": [
    {
     "name": "stdout",
     "output_type": "stream",
     "text": [
      "aparece G: 201 vezes\n"
     ]
    }
   ],
   "source": [
    "count_G = dna_sequence.count('G')\n",
    "print(f\"aparece G: {count_G} vezes\")"
   ]
  },
  {
   "cell_type": "code",
   "execution_count": 29,
   "id": "efdaffc2-f724-48e9-80bd-ca01629fcdc4",
   "metadata": {},
   "outputs": [
    {
     "name": "stdout",
     "output_type": "stream",
     "text": [
      "aparece T: 189 vezes\n"
     ]
    }
   ],
   "source": [
    "count_T = dna_sequence.count('T')\n",
    "print(f\"aparece T: {count_T} vezes\")"
   ]
  },
  {
   "cell_type": "code",
   "execution_count": 31,
   "id": "5674e1af-16de-4380-a437-20e4807430ed",
   "metadata": {},
   "outputs": [
    {
     "name": "stdout",
     "output_type": "stream",
     "text": [
      "RNA.txt: UUUAUAGUAGAAGAGGUCCAAGCGGGAACAGAACUGCUAACCCAGCCCCAUCCUGUCCUUACACAAAGAUGCUGCGGUCUUGAUCCACCUCGCUCGGCCACUCGUUCACCCCGUCUAAGUUUGCGCGGAACUAACCAAAAGAUGACAACAAGGCGGGACGAACCCUUUACGCUGUCACUCCAUAAAACAUAGUUUUAAUACCGGGUCUCUCAAAAAAGUAUGCUGGGUGCAUCGUUCCUUGGUUUAGUAGCUCCUCCGUUUCGGGCUCGGAUGAGCCUCGGAAUCCUAAGGGUAAAUGCGAAAGAUCCCACGGAUAAGGUCACUUUAACCUGUUACCCAACCAAGCCGGGCACGCGCGGUCUCCCGGAUGACAUCUCGGGAGCCUCACGAAUCAAGGCCGCAAUGCAAGAGAGGCUUUACGCCACGGUAGAGGUUACACGUUUCCCGGGGCAGGAUCCCGUCAGAGGUUUCCUUAACGAACUCACUCCAGGAUACAGUUCCAUGCACUAGGGGUCUCGGAGUCAGGCGCAACCGGCGCAAAGUAAACGAGUGGUCGAAAGCGGCGAUUGUUGUCGAUGGAGGGUUCUUUAACAUACUUACGGCCUUAGCAGUUCAUACACCCUCUACUCAAGAGGUUGCAGCGAACUUAGUUCCCAGUAAUGCACACUAGUUGACCUCAUCCCUAGAGUGACAACUCACUAUAGAAGUCGUCGUUUUGCUAAUCGAUCCCGUCGAUCCGAUGCAAACUUACCCAUUCACGCUCGCACAUCGGUUUCACAACGGAUCGUCAUACUCCAGUGAGACGCGGAUGGGCGUCAAGUGGUUG\n"
     ]
    }
   ],
   "source": [
    "#B) Um novo arquivo (nomeado como RNA.txt) com a sequência de RNA transcrita:\n",
    "#Para transcrever uma sequência de RNA, eu substituo a Timina por Uracila na string, para isso eu posso utilizar o comando \"replace\" que substitui o 'T' por 'U'.\n",
    "rna_sequence = dna_sequence.replace('T', 'U')\n",
    "print(\"RNA.txt:\", rna_sequence)"
   ]
  },
  {
   "cell_type": "code",
   "execution_count": 39,
   "id": "75358679-64e0-4bf4-8fa8-fe0cb07470c1",
   "metadata": {},
   "outputs": [
    {
     "name": "stdout",
     "output_type": "stream",
     "text": [
      "Total de nucleotídeos na sequência: 826\n"
     ]
    }
   ],
   "source": [
    "#C) Um novo arquivo (nomeado como AA.txt) com a sequência de aminoácidos traduzida.\n",
    "#Primeiro eu contei a quantidade total de aminoácidos\n",
    "total_nucleotideos = len(rna_sequence)\n",
    "print(f\"Total de nucleotídeos na sequência: {total_nucleotideos}\")\n"
   ]
  },
  {
   "cell_type": "code",
   "execution_count": 43,
   "id": "1a7f24e5-361a-4757-89b7-81874abdae0b",
   "metadata": {},
   "outputs": [
    {
     "name": "stdout",
     "output_type": "stream",
     "text": [
      "AA.txt: ['UUU', 'AUA', 'GUA', 'GAA', 'GAG', 'GUC', 'CAA', 'GCG', 'GGA', 'ACA', 'GAA', 'CUG', 'CUA', 'ACC', 'CAG', 'CCC', 'CAU', 'CCU', 'GUC', 'CUU', 'ACA', 'CAA', 'AGA', 'UGC', 'UGC', 'GGU', 'CUU', 'GAU', 'CCA', 'CCU', 'CGC', 'UCG', 'GCC', 'ACU', 'CGU', 'UCA', 'CCC', 'CGU', 'CUA', 'AGU', 'UUG', 'CGC', 'GGA', 'ACU', 'AAC', 'CAA', 'AAG', 'AUG', 'ACA', 'ACA', 'AGG', 'CGG', 'GAC', 'GAA', 'CCC', 'UUU', 'ACG', 'CUG', 'UCA', 'CUC', 'CAU', 'AAA', 'ACA', 'UAG', 'UUU', 'UAA', 'UAC', 'CGG', 'GUC', 'UCU', 'CAA', 'AAA', 'AGU', 'AUG', 'CUG', 'GGU', 'GCA', 'UCG', 'UUC', 'CUU', 'GGU', 'UUA', 'GUA', 'GCU', 'CCU', 'CCG', 'UUU', 'CGG', 'GCU', 'CGG', 'AUG', 'AGC', 'CUC', 'GGA', 'AUC', 'CUA', 'AGG', 'GUA', 'AAU', 'GCG', 'AAA', 'GAU', 'CCC', 'ACG', 'GAU', 'AAG', 'GUC', 'ACU', 'UUA', 'ACC', 'UGU', 'UAC', 'CCA', 'ACC', 'AAG', 'CCG', 'GGC', 'ACG', 'CGC', 'GGU', 'CUC', 'CCG', 'GAU', 'GAC', 'AUC', 'UCG', 'GGA', 'GCC', 'UCA', 'CGA', 'AUC', 'AAG', 'GCC', 'GCA', 'AUG', 'CAA', 'GAG', 'AGG', 'CUU', 'UAC', 'GCC', 'ACG', 'GUA', 'GAG', 'GUU', 'ACA', 'CGU', 'UUC', 'CCG', 'GGG', 'CAG', 'GAU', 'CCC', 'GUC', 'AGA', 'GGU', 'UUC', 'CUU', 'AAC', 'GAA', 'CUC', 'ACU', 'CCA', 'GGA', 'UAC', 'AGU', 'UCC', 'AUG', 'CAC', 'UAG', 'GGG', 'UCU', 'CGG', 'AGU', 'CAG', 'GCG', 'CAA', 'CCG', 'GCG', 'CAA', 'AGU', 'AAA', 'CGA', 'GUG', 'GUC', 'GAA', 'AGC', 'GGC', 'GAU', 'UGU', 'UGU', 'CGA', 'UGG', 'AGG', 'GUU', 'CUU', 'UAA', 'CAU', 'ACU', 'UAC', 'GGC', 'CUU', 'AGC', 'AGU', 'UCA', 'UAC', 'ACC', 'CUC', 'UAC', 'UCA', 'AGA', 'GGU', 'UGC', 'AGC', 'GAA', 'CUU', 'AGU', 'UCC', 'CAG', 'UAA', 'UGC', 'ACA', 'CUA', 'GUU', 'GAC', 'CUC', 'AUC', 'CCU', 'AGA', 'GUG', 'ACA', 'ACU', 'CAC', 'UAU', 'AGA', 'AGU', 'CGU', 'CGU', 'UUU', 'GCU', 'AAU', 'CGA', 'UCC', 'CGU', 'CGA', 'UCC', 'GAU', 'GCA', 'AAC', 'UUA', 'CCC', 'AUU', 'CAC', 'GCU', 'CGC', 'ACA', 'UCG', 'GUU', 'UCA', 'CAA', 'CGG', 'AUC', 'GUC', 'AUA', 'CUC', 'CAG', 'UGA', 'GAC', 'GCG', 'GAU', 'GGG', 'CGU', 'CAA', 'GUG', 'GUU', 'G']\n"
     ]
    }
   ],
   "source": [
    "#Segundo eu fiz a divisão dos aminoácidos de 3 em 3 para serem traduzidos\n",
    "aminoacidos_traduzidos = [rna_sequence[i:i+3] for i in range(0, len(rna_sequence), 3)]\n",
    "print(\"AA.txt:\",aminoacidos_traduzidos) "
   ]
  },
  {
   "cell_type": "code",
   "execution_count": null,
   "id": "3f43e95c-4c51-4d01-b303-04bf8863848e",
   "metadata": {},
   "outputs": [],
   "source": []
  }
 ],
 "metadata": {
  "kernelspec": {
   "display_name": "Python 3 (ipykernel)",
   "language": "python",
   "name": "python3"
  },
  "language_info": {
   "codemirror_mode": {
    "name": "ipython",
    "version": 3
   },
   "file_extension": ".py",
   "mimetype": "text/x-python",
   "name": "python",
   "nbconvert_exporter": "python",
   "pygments_lexer": "ipython3",
   "version": "3.12.7"
  }
 },
 "nbformat": 4,
 "nbformat_minor": 5
}
